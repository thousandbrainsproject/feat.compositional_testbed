{
 "cells": [
  {
   "cell_type": "code",
   "execution_count": null,
   "id": "557bc1fe",
   "metadata": {},
   "outputs": [],
   "source": [
    "import os\n",
    "from tbp.monty.frameworks.utils.logging_utils import load_stats\n",
    "import matplotlib.pyplot as plt\n",
    "from tbp.monty.frameworks.utils.plot_utils import plot_graph\n",
    "import colorsys\n",
    "import numpy as np\n",
    "\n"
   ]
  },
  {
   "cell_type": "code",
   "execution_count": null,
   "id": "23276d20",
   "metadata": {},
   "outputs": [],
   "source": [
    "%matplotlib widget"
   ]
  },
  {
   "cell_type": "code",
   "execution_count": null,
   "id": "c9e9768c",
   "metadata": {},
   "outputs": [],
   "source": [
    "pretrain_path = os.path.expanduser(\"~/tbp/results/monty/pretrained_models/\")\n",
    "pretrained_dict = pretrain_path + \"pretrained_ycb_v10/supervised_pre_training_compositional_logos/pretrained/\"\n",
    "\n",
    "log_path = os.path.expanduser(\"~/tbp/results/monty/projects/evidence_eval_runs/logs/\")\n",
    "exp_name = \"base_config_10distinctobj_dist_agent\"\n",
    "exp_path = log_path + exp_name\n",
    "\n",
    "train_stats, eval_stats, detailed_stats, lm_models = load_stats(exp_path,\n",
    "                                                                load_train=False, # doesn't load train csv\n",
    "                                                                load_eval=False, # loads eval_stats.csv\n",
    "                                                                load_detailed=False, # doesn't load .json\n",
    "                                                                load_models=True, # loads .pt models\n",
    "                                                                pretrained_dict=pretrained_dict,\n",
    "                                                               )"
   ]
  },
  {
   "cell_type": "code",
   "execution_count": null,
   "id": "75b59db6",
   "metadata": {},
   "outputs": [],
   "source": [
    "lm_models['pretrained'][0].keys()"
   ]
  },
  {
   "cell_type": "code",
   "execution_count": null,
   "id": "95517886",
   "metadata": {},
   "outputs": [],
   "source": [
    "lm_models['pretrained'][0]['021_logo_tbp']"
   ]
  },
  {
   "cell_type": "code",
   "execution_count": null,
   "id": "868300dc",
   "metadata": {},
   "outputs": [],
   "source": [
    "plot_graph(lm_models['pretrained'][0]['001_cube']['patch_0'], rotation=120)\n",
    "plt.show()"
   ]
  },
  {
   "cell_type": "code",
   "execution_count": null,
   "id": "69d101ba",
   "metadata": {},
   "outputs": [],
   "source": [
    "lm_models['pretrained'][0]['001_cube']['patch_0'].pos"
   ]
  },
  {
   "cell_type": "code",
   "execution_count": null,
   "id": "b38396fe",
   "metadata": {},
   "outputs": [],
   "source": [
    "plot_graph(lm_models['pretrained'][0]['006_disk']['patch_0'], rotation=120)\n",
    "plt.show()"
   ]
  },
  {
   "cell_type": "code",
   "execution_count": null,
   "id": "419c8329",
   "metadata": {},
   "outputs": [],
   "source": [
    "plot_graph(lm_models['pretrained'][0]['021_logo_tbp']['patch_0'], rotation=120)\n",
    "plt.show()"
   ]
  },
  {
   "cell_type": "code",
   "execution_count": null,
   "id": "75eb67d3",
   "metadata": {},
   "outputs": [],
   "source": [
    "plot_graph(lm_models['pretrained'][0]['022_logo_numenta']['patch_0'], rotation=120)\n",
    "plt.show()"
   ]
  },
  {
   "cell_type": "markdown",
   "id": "a1e46ad4",
   "metadata": {},
   "source": [
    "\n",
    "## Comparing Lower and Higher Level LM Models"
   ]
  },
  {
   "cell_type": "code",
   "execution_count": null,
   "id": "9dbda31a",
   "metadata": {},
   "outputs": [],
   "source": [
    "object_id = '001_cube'\n",
    "lllm_model = lm_models['pretrained'][0][object_id]['patch_0']\n",
    "hllm_model = lm_models['pretrained'][1][object_id]['patch_1']\n",
    "\n",
    "\n",
    "lllm_colors = lllm_model.x[:, 14:17]\n",
    "hllm_colors = hllm_model.x[:, 12:15]\n",
    "\n",
    "# Conver HSV values to RGB\n",
    "lllm_rgb_colors = [colorsys.hsv_to_rgb(*hsv) for hsv in lllm_colors]\n",
    "hllm_rgb_colors = [colorsys.hsv_to_rgb(*hsv) for hsv in hllm_colors]\n",
    "\n",
    "plt.figure()\n",
    "ax = plt.subplot(1, 2, 1, projection='3d')\n",
    "ax.scatter(lllm_model.pos[:, 1], lllm_model.pos[:, 0], lllm_model.pos[:, 2], c=lllm_rgb_colors)\n",
    "ax = plt.subplot(1, 2, 2, projection='3d')\n",
    "ax.scatter(hllm_model.pos[:, 1], hllm_model.pos[:, 0], hllm_model.pos[:, 2], c=hllm_rgb_colors)\n",
    "plt.show()\n"
   ]
  },
  {
   "cell_type": "code",
   "execution_count": null,
   "id": "44f4ab42",
   "metadata": {},
   "outputs": [],
   "source": [
    "object_id = '021_logo_tbp'\n",
    "lllm_model = lm_models['pretrained'][0][object_id]['patch_0']\n",
    "hllm_model = lm_models['pretrained'][1][object_id]['patch_1']\n",
    "\n",
    "\n",
    "lllm_colors = lllm_model.x[:, 14:17]\n",
    "hllm_colors = hllm_model.x[:, 12:15]\n",
    "\n",
    "# Conver HSV values to RGB\n",
    "lllm_rgb_colors = [colorsys.hsv_to_rgb(*hsv) for hsv in lllm_colors]\n",
    "hllm_rgb_colors = [colorsys.hsv_to_rgb(*hsv) for hsv in hllm_colors]\n",
    "\n",
    "plt.figure()\n",
    "ax1 = plt.subplot(1, 2, 1, projection='3d')\n",
    "ax1.scatter(lllm_model.pos[:, 1], lllm_model.pos[:, 0], lllm_model.pos[:, 2], c=lllm_rgb_colors)\n",
    "ax1.set_aspect(\"equal\")\n",
    "ax2 = plt.subplot(1, 2, 2, projection='3d')\n",
    "ax2.scatter(hllm_model.pos[:, 1], hllm_model.pos[:, 0], hllm_model.pos[:, 2], c=hllm_rgb_colors)\n",
    "ax2.set_aspect(\"equal\")\n",
    "plt.show()\n"
   ]
  },
  {
   "cell_type": "code",
   "execution_count": null,
   "id": "8fb19444",
   "metadata": {},
   "outputs": [],
   "source": []
  }
 ],
 "metadata": {
  "kernelspec": {
   "display_name": "feat.compositional_testbed",
   "language": "python",
   "name": "python3"
  },
  "language_info": {
   "codemirror_mode": {
    "name": "ipython",
    "version": 3
   },
   "file_extension": ".py",
   "mimetype": "text/x-python",
   "name": "python",
   "nbconvert_exporter": "python",
   "pygments_lexer": "ipython3",
   "version": "3.8.20"
  }
 },
 "nbformat": 4,
 "nbformat_minor": 5
}
