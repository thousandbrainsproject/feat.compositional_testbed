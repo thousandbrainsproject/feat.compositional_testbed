{
 "cells": [
  {
   "cell_type": "code",
   "execution_count": 1,
   "id": "557bc1fe",
   "metadata": {},
   "outputs": [],
   "source": [
    "import os\n",
    "from tbp.monty.frameworks.utils.logging_utils import load_stats\n",
    "import matplotlib.pyplot as plt\n",
    "from tbp.monty.frameworks.utils.plot_utils import plot_graph\n",
    "import colorsys\n",
    "import numpy as np\n",
    "\n"
   ]
  },
  {
   "cell_type": "code",
   "execution_count": 2,
   "id": "23276d20",
   "metadata": {},
   "outputs": [],
   "source": [
    "%matplotlib widget"
   ]
  },
  {
   "cell_type": "code",
   "execution_count": null,
   "id": "c9e9768c",
   "metadata": {},
   "outputs": [],
   "source": [
    "pretrain_path = os.path.expanduser(\"~/tbp/results/monty/pretrained_models/\")\n",
    "pretrained_dict = pretrain_path + \"pretrained_ycb_v10/supervised_pre_training_objects_wo_logos/pretrained/\"\n",
    "\n",
    "log_path = os.path.expanduser(\"~/tbp/results/monty/projects/evidence_eval_runs/logs/\")\n",
    "exp_name = \"base_config_10distinctobj_dist_agent\"\n",
    "exp_path = log_path + exp_name\n",
    "\n",
    "train_stats, eval_stats, detailed_stats, lm_models_base_objects = load_stats(exp_path,\n",
    "                                                                load_train=False, # doesn't load train csv\n",
    "                                                                load_eval=False, # loads eval_stats.csv\n",
    "                                                                load_detailed=False, # doesn't load .json\n",
    "                                                                load_models=True, # loads .pt models\n",
    "                                                                pretrained_dict=pretrained_dict,\n",
    "                                                               )"
   ]
  },
  {
   "cell_type": "code",
   "execution_count": null,
   "id": "75b59db6",
   "metadata": {},
   "outputs": [],
   "source": [
    "lm_models['pretrained'][0].keys()"
   ]
  },
  {
   "cell_type": "code",
   "execution_count": null,
   "id": "95517886",
   "metadata": {},
   "outputs": [],
   "source": [
    "lm_models['pretrained'][0]['021_logo_tbp']"
   ]
  },
  {
   "cell_type": "code",
   "execution_count": null,
   "id": "75eb67d3",
   "metadata": {},
   "outputs": [],
   "source": [
    "plot_graph(lm_models['pretrained'][0]['022_logo_numenta']['patch_0'], rotation=120)\n",
    "plt.show()"
   ]
  },
  {
   "cell_type": "markdown",
   "id": "a1e46ad4",
   "metadata": {},
   "source": [
    "\n",
    "## Comparing Lower and Higher Level LM Models"
   ]
  },
  {
   "cell_type": "code",
   "execution_count": null,
   "id": "ad3d7a68",
   "metadata": {},
   "outputs": [],
   "source": [
    "def plot_lllm_hllm_models(lm_models, object_id, show_ax_ticks=False, elev=-80, azim=180, roll=180):\n",
    "    lllm_model = lm_models['pretrained'][0][object_id]['patch_0']\n",
    "    hllm_model = lm_models['pretrained'][1][object_id]['patch_1']\n",
    "\n",
    "    lllm_color_idxs = lllm_model.feature_mapping['hsv']\n",
    "    lllm_colors = lllm_model.x[:, lllm_color_idxs[0]:lllm_color_idxs[1]]\n",
    "    hllm_color_idxs = hllm_model.feature_mapping['hsv']\n",
    "    hllm_colors = hllm_model.x[:, hllm_color_idxs[0]:hllm_color_idxs[1]]\n",
    "\n",
    "    # Conver HSV values to RGB\n",
    "    lllm_rgb_colors = [colorsys.hsv_to_rgb(*hsv) for hsv in lllm_colors]\n",
    "    hllm_rgb_colors = [colorsys.hsv_to_rgb(*hsv) for hsv in hllm_colors]\n",
    "\n",
    "    plt.figure()\n",
    "    ax1 = plt.subplot(1, 2, 1, projection='3d')\n",
    "    ax1.scatter(lllm_model.pos[:, 1], lllm_model.pos[:, 0], lllm_model.pos[:, 2], c=lllm_rgb_colors)\n",
    "    ax1.set_aspect(\"equal\")\n",
    "    ax1.set_title(f\"LLLM model of \\n{object_id}\")\n",
    "    ax1.view_init(elev, azim, roll)\n",
    "    if not show_ax_ticks:\n",
    "        ax1.set_xticks([])\n",
    "        ax1.set_yticks([])\n",
    "        ax1.set_zticks([])\n",
    "    ax2 = plt.subplot(1, 2, 2, projection='3d')\n",
    "    ax2.scatter(hllm_model.pos[:, 1], hllm_model.pos[:, 0], hllm_model.pos[:, 2], c=hllm_rgb_colors)\n",
    "    ax2.set_aspect(\"equal\")\n",
    "    ax2.set_title(f\"HLLM model of \\n{object_id}\")\n",
    "    ax2.view_init(elev, azim, roll)\n",
    "    if not show_ax_ticks:\n",
    "        ax2.set_xticks([])\n",
    "        ax2.set_yticks([])\n",
    "        ax2.set_zticks([])\n",
    "    plt.show()"
   ]
  },
  {
   "cell_type": "code",
   "execution_count": null,
   "id": "a1603b06",
   "metadata": {},
   "outputs": [],
   "source": [
    "lm_models['pretrained'][0].keys()"
   ]
  },
  {
   "cell_type": "code",
   "execution_count": null,
   "id": "64ce1346",
   "metadata": {},
   "outputs": [],
   "source": [
    "plot_lllm_hllm_models(avg_hsv_models, '001_cube', elev=-50, azim=150, roll=180)"
   ]
  },
  {
   "cell_type": "code",
   "execution_count": null,
   "id": "b33fcb2d",
   "metadata": {},
   "outputs": [],
   "source": [
    "plot_lllm_hllm_models(lm_models_base_objects, '001_cube', elev=-50, azim=150, roll=180)"
   ]
  },
  {
   "cell_type": "code",
   "execution_count": null,
   "id": "4a3bb2d6",
   "metadata": {},
   "outputs": [],
   "source": [
    "plot_lllm_hllm_models(lm_models_base_objects, '021_logo_tbp', elev=-80, azim=180, roll=180)"
   ]
  },
  {
   "cell_type": "markdown",
   "id": "f010c458",
   "metadata": {},
   "source": [
    "### Compositional Models Learned with Single Level of Hierarchy"
   ]
  },
  {
   "cell_type": "code",
   "execution_count": null,
   "id": "28233059",
   "metadata": {},
   "outputs": [],
   "source": [
    "# OBJECT_WITH_LOGOS = [\n",
    "#     \"002_cube_tbp_horz\",\n",
    "#     \"004_cube_numenta_horz\",\n",
    "#     \"007_disk_tbp_horz\",\n",
    "#     \"009_disk_numenta_horz\",\n",
    "# ]"
   ]
  },
  {
   "cell_type": "code",
   "execution_count": null,
   "id": "c8897cd4",
   "metadata": {},
   "outputs": [],
   "source": [
    "# Load a model that has trained on the compositional objects, but with no hierarchical passing of model IDs\n",
    "pretrained_dict = pretrain_path + \"pretrained_ycb_v10/supervised_pre_training_compositional_objects_with_logos/pretrained/\"\n",
    "\n",
    "log_path = os.path.expanduser(\"~/tbp/results/monty/projects/evidence_eval_runs/logs/\")\n",
    "exp_name = \"base_config_10distinctobj_dist_agent\"\n",
    "exp_path = log_path + exp_name\n",
    "\n",
    "__, __, __, lm_models_single_level = load_stats(exp_path,\n",
    "                                                                load_train=False, # doesn't load train csv\n",
    "                                                                load_eval=False, # loads eval_stats.csv\n",
    "                                                                load_detailed=False, # doesn't load .json\n",
    "                                                                load_models=True, # loads .pt models\n",
    "                                                                pretrained_dict=pretrained_dict,\n",
    "                                                               )"
   ]
  },
  {
   "cell_type": "code",
   "execution_count": null,
   "id": "8fb19444",
   "metadata": {},
   "outputs": [],
   "source": [
    "plot_lllm_hllm_models(lm_models_single_level, '009_disk_numenta_horz', elev=-50, azim=150, roll=180)"
   ]
  },
  {
   "cell_type": "markdown",
   "id": "07236090",
   "metadata": {},
   "source": [
    "#### Smaller Step Size (1 rather than 5 degrees)"
   ]
  },
  {
   "cell_type": "code",
   "execution_count": null,
   "id": "dd548f10",
   "metadata": {},
   "outputs": [],
   "source": [
    "# Load a model that has trained on the compositional objects, but with no hierarchical passing of model IDs\n",
    "pretrained_dict = pretrain_path + \"pretrained_ycb_v10/supervised_pre_training_compositional_objects_with_logos_small_step_size/pretrained/\"\n",
    "\n",
    "log_path = os.path.expanduser(\"~/tbp/results/monty/projects/evidence_eval_runs/logs/\")\n",
    "exp_name = \"base_config_10distinctobj_dist_agent\"\n",
    "exp_path = log_path + exp_name\n",
    "\n",
    "__, __, __, lm_models_single_level_small_step_size = load_stats(exp_path,\n",
    "                                                                load_train=False, # doesn't load train csv\n",
    "                                                                load_eval=False, # loads eval_stats.csv\n",
    "                                                                load_detailed=False, # doesn't load .json\n",
    "                                                                load_models=True, # loads .pt models\n",
    "                                                                pretrained_dict=pretrained_dict,\n",
    "                                                               )"
   ]
  },
  {
   "cell_type": "code",
   "execution_count": null,
   "id": "71587ef1",
   "metadata": {},
   "outputs": [],
   "source": [
    "plot_lllm_hllm_models(lm_models_single_level_small_step_size, '009_disk_numenta_horz', elev=-50, azim=150, roll=180)"
   ]
  },
  {
   "cell_type": "markdown",
   "id": "1da5b858",
   "metadata": {},
   "source": [
    "## Partially Supervised"
   ]
  },
  {
   "cell_type": "code",
   "execution_count": 3,
   "id": "f90fa533",
   "metadata": {},
   "outputs": [
    {
     "name": "stdout",
     "output_type": "stream",
     "text": [
      "...loading LM models...\n"
     ]
    }
   ],
   "source": [
    "pretrain_path = os.path.expanduser(\"~/tbp/results/monty/pretrained_models/\")\n",
    "pretrained_dict = pretrain_path + \"pretrained_ycb_v10/partial_supervised_pre_training_comp_objects/pretrained/\"\n",
    "\n",
    "log_path = os.path.expanduser(\"~/tbp/results/monty/projects/evidence_eval_runs/logs/\")\n",
    "exp_name = \"base_config_10distinctobj_dist_agent\"\n",
    "exp_path = log_path + exp_name\n",
    "\n",
    "train_stats, eval_stats, detailed_stats, lm_models_compositional = load_stats(exp_path,\n",
    "                                                                load_train=False, # doesn't load train csv\n",
    "                                                                load_eval=False, # loads eval_stats.csv\n",
    "                                                                load_detailed=False, # doesn't load .json\n",
    "                                                                load_models=True, # loads .pt models\n",
    "                                                                pretrained_dict=pretrained_dict,\n",
    "                                                               )"
   ]
  },
  {
   "cell_type": "code",
   "execution_count": null,
   "id": "62cdfaf5",
   "metadata": {},
   "outputs": [],
   "source": [
    "lm_models_compositional['pretrained'][1].keys()"
   ]
  },
  {
   "cell_type": "code",
   "execution_count": null,
   "id": "6bad5566",
   "metadata": {},
   "outputs": [],
   "source": [
    "lm_models_compositional['pretrained'][1]['004_cube_numenta_horz']"
   ]
  },
  {
   "cell_type": "code",
   "execution_count": null,
   "id": "b7101ebf",
   "metadata": {},
   "outputs": [],
   "source": [
    "def plot_compositional_models(lm_models, object_id, show_ax_ticks=False, elev=-80, azim=180, roll=180):\n",
    "    patch_1_model = lm_models['pretrained'][1][object_id]['patch_1']\n",
    "    lm0_model = lm_models['pretrained'][1][object_id]['learning_module_0']\n",
    "\n",
    "    hllm_color_idxs = patch_1_model.feature_mapping['hsv']\n",
    "    hllm_colors = patch_1_model.x[:, hllm_color_idxs[0]:hllm_color_idxs[1]]\n",
    "    # Conver HSV values to RGB\n",
    "    hllm_rgb_colors = [colorsys.hsv_to_rgb(*hsv) for hsv in hllm_colors]\n",
    "\n",
    "    hllm_obj_idxs = lm0_model.feature_mapping['object_id']\n",
    "    hllm_obj_ids = lm0_model.x[:, hllm_obj_idxs[0]:hllm_obj_idxs[1]]\n",
    "    print(np.unique(hllm_obj_ids))\n",
    "\n",
    "    plt.figure()\n",
    "    ax1 = plt.subplot(1, 2, 1, projection='3d')\n",
    "    ax1.scatter(patch_1_model.pos[:, 1], patch_1_model.pos[:, 0], patch_1_model.pos[:, 2], c=hllm_rgb_colors)\n",
    "    ax1.set_aspect(\"equal\")\n",
    "    ax1.set_title(f\"HLLM model from SM input of \\n{object_id}\")\n",
    "    ax1.view_init(elev, azim, roll)\n",
    "    if not show_ax_ticks:\n",
    "        ax1.set_xticks([])\n",
    "        ax1.set_yticks([])\n",
    "        ax1.set_zticks([])\n",
    "    ax2 = plt.subplot(1, 2, 2, projection='3d')\n",
    "    ax2.scatter(lm0_model.pos[:, 1], lm0_model.pos[:, 0], lm0_model.pos[:, 2], c=hllm_obj_ids)\n",
    "    ax2.set_aspect(\"equal\")\n",
    "    ax2.set_title(f\"HLLM model from LM input \\n{object_id}\")\n",
    "    ax2.view_init(elev, azim, roll)\n",
    "    if not show_ax_ticks:\n",
    "        ax2.set_xticks([])\n",
    "        ax2.set_yticks([])\n",
    "        ax2.set_zticks([])\n",
    "    plt.show()"
   ]
  },
  {
   "cell_type": "code",
   "execution_count": null,
   "id": "215129fe",
   "metadata": {},
   "outputs": [],
   "source": [
    "plot_compositional_models(lm_models_compositional, '007_disk_tbp_horz', elev=-50, azim=150, roll=180)"
   ]
  },
  {
   "cell_type": "markdown",
   "id": "05a8d4bb",
   "metadata": {},
   "source": [
    "### Compare Performance"
   ]
  },
  {
   "cell_type": "code",
   "execution_count": 4,
   "id": "514949c6",
   "metadata": {},
   "outputs": [],
   "source": [
    "from src.tbp.monty.frameworks.utils.logging_utils import print_overall_stats, compositional_stats_for_all_lms"
   ]
  },
  {
   "cell_type": "code",
   "execution_count": 5,
   "id": "d32a1f82",
   "metadata": {},
   "outputs": [
    {
     "name": "stdout",
     "output_type": "stream",
     "text": [
      "...loading and checking eval statistics...\n",
      "...loading LM models...\n",
      "...loading and checking eval statistics...\n"
     ]
    }
   ],
   "source": [
    "exp_path = log_path + \"base_config_cube_disk_logos_dist_agent\"\n",
    "_, eval_stats_base, _, lm_models_compositional = load_stats(exp_path,\n",
    "                                                                load_train=False, # doesn't load train csv\n",
    "                                                                load_eval=True, # loads eval_stats.csv\n",
    "                                                                load_detailed=False, # doesn't load .json\n",
    "                                                                load_models=True, # loads .pt models\n",
    "                                                                pretrained_dict=pretrained_dict,\n",
    "                                                               )\n",
    "exp_path = log_path + \"cube_disk_logos_with_pretrained_models\"\n",
    "_, eval_stats_comp, _, _ = load_stats(exp_path,\n",
    "                                                                load_train=False, # doesn't load train csv\n",
    "                                                                load_eval=True, # loads eval_stats.csv\n",
    "                                                                load_detailed=False, # doesn't load .json\n",
    "                                                                load_models=False, # loads .pt models\n",
    "                                                                pretrained_dict=pretrained_dict,\n",
    "                                                               )"
   ]
  },
  {
   "cell_type": "code",
   "execution_count": 6,
   "id": "6574bc31",
   "metadata": {},
   "outputs": [
    {
     "data": {
      "text/html": [
       "<div>\n",
       "<style scoped>\n",
       "    .dataframe tbody tr th:only-of-type {\n",
       "        vertical-align: middle;\n",
       "    }\n",
       "\n",
       "    .dataframe tbody tr th {\n",
       "        vertical-align: top;\n",
       "    }\n",
       "\n",
       "    .dataframe thead th {\n",
       "        text-align: right;\n",
       "    }\n",
       "</style>\n",
       "<table border=\"1\" class=\"dataframe\">\n",
       "  <thead>\n",
       "    <tr style=\"text-align: right;\">\n",
       "      <th></th>\n",
       "      <th>Unnamed: 0</th>\n",
       "      <th>primary_performance</th>\n",
       "      <th>stepwise_performance</th>\n",
       "      <th>num_steps</th>\n",
       "      <th>rotation_error</th>\n",
       "      <th>result</th>\n",
       "      <th>most_likely_object</th>\n",
       "      <th>primary_target_object</th>\n",
       "      <th>stepwise_target_object</th>\n",
       "      <th>highest_evidence</th>\n",
       "      <th>...</th>\n",
       "      <th>mean_objects_per_graph</th>\n",
       "      <th>mean_graphs_per_object</th>\n",
       "      <th>TFNP</th>\n",
       "      <th>possible_match_sources</th>\n",
       "      <th>most_likely_location</th>\n",
       "      <th>goal_states_attempted</th>\n",
       "      <th>goal_state_achieved</th>\n",
       "      <th>primary_target_rotation_quat</th>\n",
       "      <th>primary_target_scale</th>\n",
       "      <th>lm_id</th>\n",
       "    </tr>\n",
       "  </thead>\n",
       "  <tbody>\n",
       "    <tr>\n",
       "      <th>0</th>\n",
       "      <td>LM_0</td>\n",
       "      <td>confused</td>\n",
       "      <td>confused</td>\n",
       "      <td>175</td>\n",
       "      <td>NaN</td>\n",
       "      <td>001_cube</td>\n",
       "      <td>001_cube</td>\n",
       "      <td>002_cube_tbp_horz</td>\n",
       "      <td>002_cube_tbp_horz</td>\n",
       "      <td>237.587558</td>\n",
       "      <td>...</td>\n",
       "      <td>1.0</td>\n",
       "      <td>1.0</td>\n",
       "      <td>unknown_object_in_possible_matches_(FP)</td>\n",
       "      <td>001_cube</td>\n",
       "      <td>[-0.06000011  1.52544135  0.0077997 ]</td>\n",
       "      <td>28</td>\n",
       "      <td>27</td>\n",
       "      <td>[1. 0. 0. 0.]</td>\n",
       "      <td>1.0</td>\n",
       "      <td>LM_0</td>\n",
       "    </tr>\n",
       "    <tr>\n",
       "      <th>1</th>\n",
       "      <td>LM_1</td>\n",
       "      <td>correct</td>\n",
       "      <td>correct</td>\n",
       "      <td>30</td>\n",
       "      <td>1.5708</td>\n",
       "      <td>002_cube_tbp_horz</td>\n",
       "      <td>002_cube_tbp_horz</td>\n",
       "      <td>002_cube_tbp_horz</td>\n",
       "      <td>002_cube_tbp_horz</td>\n",
       "      <td>34.252574</td>\n",
       "      <td>...</td>\n",
       "      <td>1.0</td>\n",
       "      <td>1.0</td>\n",
       "      <td>target_in_possible_matches_(TP)</td>\n",
       "      <td>002_cube_tbp_horz</td>\n",
       "      <td>[-0.02537022  1.43949186  0.0078706 ]</td>\n",
       "      <td>4</td>\n",
       "      <td>4</td>\n",
       "      <td>[1. 0. 0. 0.]</td>\n",
       "      <td>1.0</td>\n",
       "      <td>LM_1</td>\n",
       "    </tr>\n",
       "    <tr>\n",
       "      <th>2</th>\n",
       "      <td>LM_0</td>\n",
       "      <td>confused</td>\n",
       "      <td>confused</td>\n",
       "      <td>480</td>\n",
       "      <td>NaN</td>\n",
       "      <td>001_cube</td>\n",
       "      <td>001_cube</td>\n",
       "      <td>004_cube_numenta_horz</td>\n",
       "      <td>002_cube_tbp_horz</td>\n",
       "      <td>663.515822</td>\n",
       "      <td>...</td>\n",
       "      <td>1.0</td>\n",
       "      <td>1.0</td>\n",
       "      <td>unknown_object_in_possible_matches_(FP)</td>\n",
       "      <td>001_cube</td>\n",
       "      <td>[0.00371827 1.44000014 0.04627836]</td>\n",
       "      <td>79</td>\n",
       "      <td>57</td>\n",
       "      <td>[1. 0. 0. 0.]</td>\n",
       "      <td>1.0</td>\n",
       "      <td>LM_0</td>\n",
       "    </tr>\n",
       "    <tr>\n",
       "      <th>3</th>\n",
       "      <td>LM_1</td>\n",
       "      <td>confused_mlh</td>\n",
       "      <td>correct_mlh</td>\n",
       "      <td>94</td>\n",
       "      <td>NaN</td>\n",
       "      <td>['001_cube', '002_cube_tbp_horz', '004_cube_nu...</td>\n",
       "      <td>002_cube_tbp_horz</td>\n",
       "      <td>004_cube_numenta_horz</td>\n",
       "      <td>002_cube_tbp_horz</td>\n",
       "      <td>101.449480</td>\n",
       "      <td>...</td>\n",
       "      <td>1.0</td>\n",
       "      <td>1.0</td>\n",
       "      <td>target_in_possible_matches_(TP)</td>\n",
       "      <td>001_cube-002_cube_tbp_horz-004_cube_numenta_horz</td>\n",
       "      <td>[-0.00356784  1.45353288  0.05999977]</td>\n",
       "      <td>12</td>\n",
       "      <td>12</td>\n",
       "      <td>[1. 0. 0. 0.]</td>\n",
       "      <td>1.0</td>\n",
       "      <td>LM_1</td>\n",
       "    </tr>\n",
       "    <tr>\n",
       "      <th>4</th>\n",
       "      <td>LM_0</td>\n",
       "      <td>confused</td>\n",
       "      <td>confused</td>\n",
       "      <td>472</td>\n",
       "      <td>NaN</td>\n",
       "      <td>006_disk</td>\n",
       "      <td>006_disk</td>\n",
       "      <td>007_disk_tbp_horz</td>\n",
       "      <td>002_cube_tbp_horz</td>\n",
       "      <td>659.094105</td>\n",
       "      <td>...</td>\n",
       "      <td>1.0</td>\n",
       "      <td>1.0</td>\n",
       "      <td>unknown_object_in_possible_matches_(FP)</td>\n",
       "      <td>006_disk</td>\n",
       "      <td>[ 0.05800966  1.50145121 -0.00249995]</td>\n",
       "      <td>76</td>\n",
       "      <td>50</td>\n",
       "      <td>[1. 0. 0. 0.]</td>\n",
       "      <td>1.0</td>\n",
       "      <td>LM_0</td>\n",
       "    </tr>\n",
       "    <tr>\n",
       "      <th>5</th>\n",
       "      <td>LM_1</td>\n",
       "      <td>correct_mlh</td>\n",
       "      <td>confused_mlh</td>\n",
       "      <td>133</td>\n",
       "      <td>0.0000</td>\n",
       "      <td>['006_disk', '007_disk_tbp_horz', '009_disk_nu...</td>\n",
       "      <td>007_disk_tbp_horz</td>\n",
       "      <td>007_disk_tbp_horz</td>\n",
       "      <td>002_cube_tbp_horz</td>\n",
       "      <td>165.913880</td>\n",
       "      <td>...</td>\n",
       "      <td>1.0</td>\n",
       "      <td>1.0</td>\n",
       "      <td>target_in_possible_matches_(TP)</td>\n",
       "      <td>006_disk-007_disk_tbp_horz-009_disk_numenta_horz</td>\n",
       "      <td>[-0.04511205  1.47150315  0.00250046]</td>\n",
       "      <td>9</td>\n",
       "      <td>5</td>\n",
       "      <td>[1. 0. 0. 0.]</td>\n",
       "      <td>1.0</td>\n",
       "      <td>LM_1</td>\n",
       "    </tr>\n",
       "    <tr>\n",
       "      <th>6</th>\n",
       "      <td>LM_0</td>\n",
       "      <td>confused</td>\n",
       "      <td>confused</td>\n",
       "      <td>458</td>\n",
       "      <td>NaN</td>\n",
       "      <td>006_disk</td>\n",
       "      <td>006_disk</td>\n",
       "      <td>009_disk_numenta_horz</td>\n",
       "      <td>002_cube_tbp_horz</td>\n",
       "      <td>648.893295</td>\n",
       "      <td>...</td>\n",
       "      <td>1.0</td>\n",
       "      <td>1.0</td>\n",
       "      <td>unknown_object_in_possible_matches_(FP)</td>\n",
       "      <td>001_cube-006_disk</td>\n",
       "      <td>[-2.91185086e-02  1.55554370e+00 -2.86179821e-04]</td>\n",
       "      <td>64</td>\n",
       "      <td>51</td>\n",
       "      <td>[1. 0. 0. 0.]</td>\n",
       "      <td>1.0</td>\n",
       "      <td>LM_0</td>\n",
       "    </tr>\n",
       "    <tr>\n",
       "      <th>7</th>\n",
       "      <td>LM_1</td>\n",
       "      <td>correct_mlh</td>\n",
       "      <td>confused_mlh</td>\n",
       "      <td>180</td>\n",
       "      <td>0.0015</td>\n",
       "      <td>['006_disk', '002_cube_tbp_horz', '004_cube_nu...</td>\n",
       "      <td>009_disk_numenta_horz</td>\n",
       "      <td>009_disk_numenta_horz</td>\n",
       "      <td>002_cube_tbp_horz</td>\n",
       "      <td>244.145594</td>\n",
       "      <td>...</td>\n",
       "      <td>1.0</td>\n",
       "      <td>1.0</td>\n",
       "      <td>target_in_possible_matches_(TP)</td>\n",
       "      <td>002_cube_tbp_horz-004_cube_numenta_horz-006_di...</td>\n",
       "      <td>[-0.052535    1.48651789 -0.0019933 ]</td>\n",
       "      <td>9</td>\n",
       "      <td>9</td>\n",
       "      <td>[1. 0. 0. 0.]</td>\n",
       "      <td>1.0</td>\n",
       "      <td>LM_1</td>\n",
       "    </tr>\n",
       "  </tbody>\n",
       "</table>\n",
       "<p>8 rows × 36 columns</p>\n",
       "</div>"
      ],
      "text/plain": [
       "  Unnamed: 0 primary_performance stepwise_performance  num_steps  \\\n",
       "0       LM_0            confused             confused        175   \n",
       "1       LM_1             correct              correct         30   \n",
       "2       LM_0            confused             confused        480   \n",
       "3       LM_1        confused_mlh          correct_mlh         94   \n",
       "4       LM_0            confused             confused        472   \n",
       "5       LM_1         correct_mlh         confused_mlh        133   \n",
       "6       LM_0            confused             confused        458   \n",
       "7       LM_1         correct_mlh         confused_mlh        180   \n",
       "\n",
       "   rotation_error                                             result  \\\n",
       "0             NaN                                           001_cube   \n",
       "1          1.5708                                  002_cube_tbp_horz   \n",
       "2             NaN                                           001_cube   \n",
       "3             NaN  ['001_cube', '002_cube_tbp_horz', '004_cube_nu...   \n",
       "4             NaN                                           006_disk   \n",
       "5          0.0000  ['006_disk', '007_disk_tbp_horz', '009_disk_nu...   \n",
       "6             NaN                                           006_disk   \n",
       "7          0.0015  ['006_disk', '002_cube_tbp_horz', '004_cube_nu...   \n",
       "\n",
       "      most_likely_object  primary_target_object stepwise_target_object  \\\n",
       "0               001_cube      002_cube_tbp_horz      002_cube_tbp_horz   \n",
       "1      002_cube_tbp_horz      002_cube_tbp_horz      002_cube_tbp_horz   \n",
       "2               001_cube  004_cube_numenta_horz      002_cube_tbp_horz   \n",
       "3      002_cube_tbp_horz  004_cube_numenta_horz      002_cube_tbp_horz   \n",
       "4               006_disk      007_disk_tbp_horz      002_cube_tbp_horz   \n",
       "5      007_disk_tbp_horz      007_disk_tbp_horz      002_cube_tbp_horz   \n",
       "6               006_disk  009_disk_numenta_horz      002_cube_tbp_horz   \n",
       "7  009_disk_numenta_horz  009_disk_numenta_horz      002_cube_tbp_horz   \n",
       "\n",
       "   highest_evidence  ...  mean_objects_per_graph  mean_graphs_per_object  \\\n",
       "0        237.587558  ...                     1.0                     1.0   \n",
       "1         34.252574  ...                     1.0                     1.0   \n",
       "2        663.515822  ...                     1.0                     1.0   \n",
       "3        101.449480  ...                     1.0                     1.0   \n",
       "4        659.094105  ...                     1.0                     1.0   \n",
       "5        165.913880  ...                     1.0                     1.0   \n",
       "6        648.893295  ...                     1.0                     1.0   \n",
       "7        244.145594  ...                     1.0                     1.0   \n",
       "\n",
       "                                      TFNP  \\\n",
       "0  unknown_object_in_possible_matches_(FP)   \n",
       "1          target_in_possible_matches_(TP)   \n",
       "2  unknown_object_in_possible_matches_(FP)   \n",
       "3          target_in_possible_matches_(TP)   \n",
       "4  unknown_object_in_possible_matches_(FP)   \n",
       "5          target_in_possible_matches_(TP)   \n",
       "6  unknown_object_in_possible_matches_(FP)   \n",
       "7          target_in_possible_matches_(TP)   \n",
       "\n",
       "                              possible_match_sources  \\\n",
       "0                                           001_cube   \n",
       "1                                  002_cube_tbp_horz   \n",
       "2                                           001_cube   \n",
       "3   001_cube-002_cube_tbp_horz-004_cube_numenta_horz   \n",
       "4                                           006_disk   \n",
       "5   006_disk-007_disk_tbp_horz-009_disk_numenta_horz   \n",
       "6                                  001_cube-006_disk   \n",
       "7  002_cube_tbp_horz-004_cube_numenta_horz-006_di...   \n",
       "\n",
       "                                most_likely_location  goal_states_attempted  \\\n",
       "0              [-0.06000011  1.52544135  0.0077997 ]                     28   \n",
       "1              [-0.02537022  1.43949186  0.0078706 ]                      4   \n",
       "2                 [0.00371827 1.44000014 0.04627836]                     79   \n",
       "3              [-0.00356784  1.45353288  0.05999977]                     12   \n",
       "4              [ 0.05800966  1.50145121 -0.00249995]                     76   \n",
       "5              [-0.04511205  1.47150315  0.00250046]                      9   \n",
       "6  [-2.91185086e-02  1.55554370e+00 -2.86179821e-04]                     64   \n",
       "7              [-0.052535    1.48651789 -0.0019933 ]                      9   \n",
       "\n",
       "  goal_state_achieved primary_target_rotation_quat primary_target_scale  lm_id  \n",
       "0                  27                [1. 0. 0. 0.]                  1.0   LM_0  \n",
       "1                   4                [1. 0. 0. 0.]                  1.0   LM_1  \n",
       "2                  57                [1. 0. 0. 0.]                  1.0   LM_0  \n",
       "3                  12                [1. 0. 0. 0.]                  1.0   LM_1  \n",
       "4                  50                [1. 0. 0. 0.]                  1.0   LM_0  \n",
       "5                   5                [1. 0. 0. 0.]                  1.0   LM_1  \n",
       "6                  51                [1. 0. 0. 0.]                  1.0   LM_0  \n",
       "7                   9                [1. 0. 0. 0.]                  1.0   LM_1  \n",
       "\n",
       "[8 rows x 36 columns]"
      ]
     },
     "execution_count": 6,
     "metadata": {},
     "output_type": "execute_result"
    }
   ],
   "source": [
    "eval_stats_comp"
   ]
  },
  {
   "cell_type": "code",
   "execution_count": 7,
   "id": "0340e767",
   "metadata": {},
   "outputs": [
    {
     "name": "stdout",
     "output_type": "stream",
     "text": [
      "Detected 75.0% correctly\n",
      "overall run time: 119.8 seconds (2.0 minutes), 29.95 seconds per episode, 0.07 seconds per step.\n"
     ]
    }
   ],
   "source": [
    "print_overall_stats(eval_stats_comp[eval_stats_comp[\"lm_id\"]==\"LM_1\"])"
   ]
  },
  {
   "cell_type": "code",
   "execution_count": 8,
   "id": "8157d962",
   "metadata": {},
   "outputs": [],
   "source": [
    "parent_to_child_mapping = {\n",
    "    \"002_cube_tbp_horz\": [\"001_cube\", \"021_logo_tbp\"],\n",
    "    \"004_cube_numenta_horz\": [\"001_cube\", \"022_logo_numenta\"],\n",
    "    \"007_disk_tbp_horz\": [\"006_disk\", \"021_logo_tbp\"],\n",
    "    \"009_disk_numenta_horz\": [\"006_disk\", \"022_logo_numenta\"],\n",
    "}\n"
   ]
  },
  {
   "cell_type": "code",
   "execution_count": 11,
   "id": "30ef76cc",
   "metadata": {},
   "outputs": [
    {
     "name": "stdout",
     "output_type": "stream",
     "text": [
      "LM_0 accuracy: 0.0\n",
      "LM_0 consistent child accuracy: 1.0\n",
      "LM_1 accuracy: 75.0\n",
      "LM_1 consistent child accuracy: 0.0\n"
     ]
    }
   ],
   "source": [
    "compositional_stats_for_all_lms(eval_stats_comp,[0,1], parent_to_child_mapping)"
   ]
  },
  {
   "cell_type": "code",
   "execution_count": null,
   "id": "2f9190b5",
   "metadata": {},
   "outputs": [],
   "source": []
  }
 ],
 "metadata": {
  "kernelspec": {
   "display_name": "feat.compositional_testbed",
   "language": "python",
   "name": "python3"
  },
  "language_info": {
   "codemirror_mode": {
    "name": "ipython",
    "version": 3
   },
   "file_extension": ".py",
   "mimetype": "text/x-python",
   "name": "python",
   "nbconvert_exporter": "python",
   "pygments_lexer": "ipython3",
   "version": "3.8.20"
  }
 },
 "nbformat": 4,
 "nbformat_minor": 5
}
