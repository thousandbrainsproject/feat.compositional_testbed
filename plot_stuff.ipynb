{
 "cells": [
  {
   "cell_type": "code",
   "id": "557bc1fe",
   "metadata": {},
   "source": [
    "import os\n",
    "from tbp.monty.frameworks.utils.logging_utils import load_stats\n",
    "import matplotlib.pyplot as plt\n",
    "from tbp.monty.frameworks.utils.plot_utils import plot_graph\n",
    "import colorsys\n",
    "import numpy as np\n",
    "\n"
   ],
   "outputs": [],
   "execution_count": null
  },
  {
   "cell_type": "code",
   "id": "23276d20",
   "metadata": {},
   "source": [
    "%matplotlib widget"
   ],
   "outputs": [],
   "execution_count": null
  },
  {
   "cell_type": "code",
   "id": "c9e9768c",
   "metadata": {},
   "source": [
    "pretrain_path = os.path.expanduser(\"~/tbp/results/monty/pretrained_models/\")\n",
    "pretrained_dict = pretrain_path + \"pretrained_ycb_v10/supervised_pre_training_objects_wo_logos/pretrained/\"\n",
    "\n",
    "log_path = os.path.expanduser(\"~/tbp/results/monty/projects/evidence_eval_runs/logs/\")\n",
    "exp_name = \"base_config_10distinctobj_dist_agent\"\n",
    "exp_path = log_path + exp_name\n",
    "\n",
    "train_stats, eval_stats, detailed_stats, lm_models_base_objects = load_stats(exp_path,\n",
    "                                                                load_train=False, # doesn't load train csv\n",
    "                                                                load_eval=False, # loads eval_stats.csv\n",
    "                                                                load_detailed=False, # doesn't load .json\n",
    "                                                                load_models=True, # loads .pt models\n",
    "                                                                pretrained_dict=pretrained_dict,\n",
    "                                                               )"
   ],
   "outputs": [],
   "execution_count": null
  },
  {
   "cell_type": "code",
   "id": "75b59db6",
   "metadata": {},
   "source": [
    "lm_models['pretrained'][0].keys()"
   ],
   "outputs": [],
   "execution_count": null
  },
  {
   "cell_type": "code",
   "id": "95517886",
   "metadata": {},
   "source": [
    "lm_models['pretrained'][0]['021_logo_tbp']"
   ],
   "outputs": [],
   "execution_count": null
  },
  {
   "cell_type": "code",
   "id": "75eb67d3",
   "metadata": {},
   "source": [
    "plot_graph(lm_models['pretrained'][0]['022_logo_numenta']['patch_0'], rotation=120)\n",
    "plt.show()"
   ],
   "outputs": [],
   "execution_count": null
  },
  {
   "cell_type": "markdown",
   "id": "a1e46ad4",
   "metadata": {},
   "source": [
    "\n",
    "## Comparing Lower and Higher Level LM Models"
   ]
  },
  {
   "cell_type": "code",
   "id": "ad3d7a68",
   "metadata": {},
   "source": [
    "def plot_lllm_hllm_models(lm_models, object_id, show_ax_ticks=False, elev=-80, azim=180, roll=180):\n",
    "    lllm_model = lm_models['pretrained'][0][object_id]['patch_0']\n",
    "    hllm_model = lm_models['pretrained'][1][object_id]['patch_1']\n",
    "\n",
    "    lllm_color_idxs = lllm_model.feature_mapping['hsv']\n",
    "    lllm_colors = lllm_model.x[:, lllm_color_idxs[0]:lllm_color_idxs[1]]\n",
    "    hllm_color_idxs = hllm_model.feature_mapping['hsv']\n",
    "    hllm_colors = hllm_model.x[:, hllm_color_idxs[0]:hllm_color_idxs[1]]\n",
    "\n",
    "    # Conver HSV values to RGB\n",
    "    lllm_rgb_colors = [colorsys.hsv_to_rgb(*hsv) for hsv in lllm_colors]\n",
    "    hllm_rgb_colors = [colorsys.hsv_to_rgb(*hsv) for hsv in hllm_colors]\n",
    "\n",
    "    plt.figure()\n",
    "    ax1 = plt.subplot(1, 2, 1, projection='3d')\n",
    "    ax1.scatter(lllm_model.pos[:, 1], lllm_model.pos[:, 0], lllm_model.pos[:, 2], c=lllm_rgb_colors)\n",
    "    ax1.set_aspect(\"equal\")\n",
    "    ax1.set_title(f\"LLLM model of \\n{object_id}\")\n",
    "    ax1.view_init(elev, azim, roll)\n",
    "    if not show_ax_ticks:\n",
    "        ax1.set_xticks([])\n",
    "        ax1.set_yticks([])\n",
    "        ax1.set_zticks([])\n",
    "    ax2 = plt.subplot(1, 2, 2, projection='3d')\n",
    "    ax2.scatter(hllm_model.pos[:, 1], hllm_model.pos[:, 0], hllm_model.pos[:, 2], c=hllm_rgb_colors)\n",
    "    ax2.set_aspect(\"equal\")\n",
    "    ax2.set_title(f\"HLLM model of \\n{object_id}\")\n",
    "    ax2.view_init(elev, azim, roll)\n",
    "    if not show_ax_ticks:\n",
    "        ax2.set_xticks([])\n",
    "        ax2.set_yticks([])\n",
    "        ax2.set_zticks([])\n",
    "    plt.show()"
   ],
   "outputs": [],
   "execution_count": null
  },
  {
   "cell_type": "code",
   "id": "a1603b06",
   "metadata": {},
   "source": [
    "lm_models['pretrained'][0].keys()"
   ],
   "outputs": [],
   "execution_count": null
  },
  {
   "cell_type": "code",
   "id": "64ce1346",
   "metadata": {},
   "source": [
    "plot_lllm_hllm_models(avg_hsv_models, '001_cube', elev=-50, azim=150, roll=180)"
   ],
   "outputs": [],
   "execution_count": null
  },
  {
   "cell_type": "code",
   "id": "b33fcb2d",
   "metadata": {},
   "source": [
    "plot_lllm_hllm_models(lm_models_base_objects, '001_cube', elev=-50, azim=150, roll=180)"
   ],
   "outputs": [],
   "execution_count": null
  },
  {
   "cell_type": "code",
   "id": "4a3bb2d6",
   "metadata": {},
   "source": [
    "plot_lllm_hllm_models(lm_models_base_objects, '021_logo_tbp', elev=-80, azim=180, roll=180)"
   ],
   "outputs": [],
   "execution_count": null
  },
  {
   "cell_type": "markdown",
   "id": "f010c458",
   "metadata": {},
   "source": [
    "### Compositional Models Learned with Single Level of Hierarchy"
   ]
  },
  {
   "cell_type": "code",
   "id": "28233059",
   "metadata": {},
   "source": [
    "# OBJECT_WITH_LOGOS = [\n",
    "#     \"002_cube_tbp_horz\",\n",
    "#     \"004_cube_numenta_horz\",\n",
    "#     \"007_disk_tbp_horz\",\n",
    "#     \"009_disk_numenta_horz\",\n",
    "# ]"
   ],
   "outputs": [],
   "execution_count": null
  },
  {
   "cell_type": "code",
   "id": "c8897cd4",
   "metadata": {},
   "source": [
    "# Load a model that has trained on the compositional objects, but with no hierarchical passing of model IDs\n",
    "pretrained_dict = pretrain_path + \"pretrained_ycb_v10/supervised_pre_training_compositional_objects_with_logos/pretrained/\"\n",
    "\n",
    "log_path = os.path.expanduser(\"~/tbp/results/monty/projects/evidence_eval_runs/logs/\")\n",
    "exp_name = \"base_config_10distinctobj_dist_agent\"\n",
    "exp_path = log_path + exp_name\n",
    "\n",
    "__, __, __, lm_models_single_level = load_stats(exp_path,\n",
    "                                                                load_train=False, # doesn't load train csv\n",
    "                                                                load_eval=False, # loads eval_stats.csv\n",
    "                                                                load_detailed=False, # doesn't load .json\n",
    "                                                                load_models=True, # loads .pt models\n",
    "                                                                pretrained_dict=pretrained_dict,\n",
    "                                                               )"
   ],
   "outputs": [],
   "execution_count": null
  },
  {
   "cell_type": "code",
   "id": "8fb19444",
   "metadata": {},
   "source": [
    "plot_lllm_hllm_models(lm_models_single_level, '009_disk_numenta_horz', elev=-50, azim=150, roll=180)"
   ],
   "outputs": [],
   "execution_count": null
  },
  {
   "cell_type": "markdown",
   "id": "07236090",
   "metadata": {},
   "source": [
    "#### Smaller Step Size (1 rather than 5 degrees)"
   ]
  },
  {
   "cell_type": "code",
   "id": "dd548f10",
   "metadata": {},
   "source": [
    "# Load a model that has trained on the compositional objects, but with no hierarchical passing of model IDs\n",
    "pretrained_dict = pretrain_path + \"pretrained_ycb_v10/supervised_pre_training_compositional_objects_with_logos_small_step_size/pretrained/\"\n",
    "\n",
    "log_path = os.path.expanduser(\"~/tbp/results/monty/projects/evidence_eval_runs/logs/\")\n",
    "exp_name = \"base_config_10distinctobj_dist_agent\"\n",
    "exp_path = log_path + exp_name\n",
    "\n",
    "__, __, __, lm_models_single_level_small_step_size = load_stats(exp_path,\n",
    "                                                                load_train=False, # doesn't load train csv\n",
    "                                                                load_eval=False, # loads eval_stats.csv\n",
    "                                                                load_detailed=False, # doesn't load .json\n",
    "                                                                load_models=True, # loads .pt models\n",
    "                                                                pretrained_dict=pretrained_dict,\n",
    "                                                               )"
   ],
   "outputs": [],
   "execution_count": null
  },
  {
   "cell_type": "code",
   "id": "71587ef1",
   "metadata": {},
   "source": [
    "plot_lllm_hllm_models(lm_models_single_level_small_step_size, '009_disk_numenta_horz', elev=-50, azim=150, roll=180)"
   ],
   "outputs": [],
   "execution_count": null
  },
  {
   "cell_type": "markdown",
   "id": "1da5b858",
   "metadata": {},
   "source": [
    "## Partially Supervised"
   ]
  },
  {
   "cell_type": "code",
   "id": "f90fa533",
   "metadata": {},
   "source": [
    "pretrain_path = os.path.expanduser(\"~/tbp/results/monty/pretrained_models/\")\n",
    "pretrained_dict = pretrain_path + \"pretrained_ycb_v10/partial_supervised_pre_training_comp_objects/pretrained/\"\n",
    "\n",
    "log_path = os.path.expanduser(\"~/tbp/results/monty/projects/evidence_eval_runs/logs/\")\n",
    "exp_name = \"base_config_10distinctobj_dist_agent\"\n",
    "exp_path = log_path + exp_name\n",
    "\n",
    "train_stats, eval_stats, detailed_stats, lm_models_compositional = load_stats(exp_path,\n",
    "                                                                load_train=False, # doesn't load train csv\n",
    "                                                                load_eval=False, # loads eval_stats.csv\n",
    "                                                                load_detailed=False, # doesn't load .json\n",
    "                                                                load_models=True, # loads .pt models\n",
    "                                                                pretrained_dict=pretrained_dict,\n",
    "                                                               )"
   ],
   "outputs": [],
   "execution_count": null
  },
  {
   "cell_type": "code",
   "id": "62cdfaf5",
   "metadata": {},
   "source": [
    "lm_models_compositional['pretrained'][1].keys()"
   ],
   "outputs": [],
   "execution_count": null
  },
  {
   "cell_type": "code",
   "id": "6bad5566",
   "metadata": {},
   "source": [
    "lm_models_compositional['pretrained'][1]['004_cube_numenta_horz']"
   ],
   "outputs": [],
   "execution_count": null
  },
  {
   "cell_type": "code",
   "id": "b7101ebf",
   "metadata": {},
   "source": [
    "def plot_compositional_models(lm_models, object_id, show_ax_ticks=False, elev=-80, azim=180, roll=180):\n",
    "    patch_1_model = lm_models['pretrained'][1][object_id]['patch_1']\n",
    "    lm0_model = lm_models['pretrained'][1][object_id]['learning_module_0']\n",
    "\n",
    "    hllm_color_idxs = patch_1_model.feature_mapping['hsv']\n",
    "    hllm_colors = patch_1_model.x[:, hllm_color_idxs[0]:hllm_color_idxs[1]]\n",
    "    # Conver HSV values to RGB\n",
    "    hllm_rgb_colors = [colorsys.hsv_to_rgb(*hsv) for hsv in hllm_colors]\n",
    "\n",
    "    hllm_obj_idxs = lm0_model.feature_mapping['object_id']\n",
    "    hllm_obj_ids = lm0_model.x[:, hllm_obj_idxs[0]:hllm_obj_idxs[1]]\n",
    "    print(np.unique(hllm_obj_ids))\n",
    "\n",
    "    plt.figure()\n",
    "    ax1 = plt.subplot(1, 2, 1, projection='3d')\n",
    "    ax1.scatter(patch_1_model.pos[:, 1], patch_1_model.pos[:, 0], patch_1_model.pos[:, 2], c=hllm_rgb_colors)\n",
    "    ax1.set_aspect(\"equal\")\n",
    "    ax1.set_title(f\"HLLM model from SM input of \\n{object_id}\")\n",
    "    ax1.view_init(elev, azim, roll)\n",
    "    if not show_ax_ticks:\n",
    "        ax1.set_xticks([])\n",
    "        ax1.set_yticks([])\n",
    "        ax1.set_zticks([])\n",
    "    ax2 = plt.subplot(1, 2, 2, projection='3d')\n",
    "    ax2.scatter(lm0_model.pos[:, 1], lm0_model.pos[:, 0], lm0_model.pos[:, 2], c=hllm_obj_ids)\n",
    "    ax2.set_aspect(\"equal\")\n",
    "    ax2.set_title(f\"HLLM model from LM input \\n{object_id}\")\n",
    "    ax2.view_init(elev, azim, roll)\n",
    "    if not show_ax_ticks:\n",
    "        ax2.set_xticks([])\n",
    "        ax2.set_yticks([])\n",
    "        ax2.set_zticks([])\n",
    "    plt.show()"
   ],
   "outputs": [],
   "execution_count": null
  },
  {
   "cell_type": "code",
   "id": "215129fe",
   "metadata": {},
   "source": [
    "plot_compositional_models(lm_models_compositional, '007_disk_tbp_horz', elev=-50, azim=150, roll=180)"
   ],
   "outputs": [],
   "execution_count": null
  },
  {
   "cell_type": "markdown",
   "id": "05a8d4bb",
   "metadata": {},
   "source": [
    "### Compare Performance"
   ]
  },
  {
   "cell_type": "code",
   "id": "514949c6",
   "metadata": {},
   "source": [
    "from src.tbp.monty.frameworks.utils.logging_utils import print_overall_stats, compositional_stats_for_all_lms"
   ],
   "outputs": [],
   "execution_count": null
  },
  {
   "cell_type": "code",
   "id": "d32a1f82",
   "metadata": {},
   "source": [
    "exp_path = log_path + \"base_config_cube_disk_logos_dist_agent\"\n",
    "_, eval_stats_base, _, lm_models_compositional = load_stats(exp_path,\n",
    "                                                                load_train=False, # doesn't load train csv\n",
    "                                                                load_eval=True, # loads eval_stats.csv\n",
    "                                                                load_detailed=False, # doesn't load .json\n",
    "                                                                load_models=True, # loads .pt models\n",
    "                                                                pretrained_dict=pretrained_dict,\n",
    "                                                               )\n",
    "exp_path = log_path + \"cube_disk_logos_with_pretrained_models\"\n",
    "_, eval_stats_comp, _, _ = load_stats(exp_path,\n",
    "                                                                load_train=False, # doesn't load train csv\n",
    "                                                                load_eval=True, # loads eval_stats.csv\n",
    "                                                                load_detailed=False, # doesn't load .json\n",
    "                                                                load_models=False, # loads .pt models\n",
    "                                                                pretrained_dict=pretrained_dict,\n",
    "                                                               )"
   ],
   "outputs": [],
   "execution_count": null
  },
  {
   "cell_type": "code",
   "id": "6574bc31",
   "metadata": {},
   "source": [
    "eval_stats_comp"
   ],
   "outputs": [],
   "execution_count": null
  },
  {
   "cell_type": "code",
   "id": "0340e767",
   "metadata": {},
   "source": [
    "print_overall_stats(eval_stats_comp[eval_stats_comp[\"lm_id\"]==\"LM_1\"])"
   ],
   "outputs": [],
   "execution_count": null
  },
  {
   "cell_type": "code",
   "id": "8157d962",
   "metadata": {},
   "source": [
    "parent_to_child_mapping = {\n",
    "    \"002_cube_tbp_horz\": [\"001_cube\", \"021_logo_tbp\"],\n",
    "    \"004_cube_numenta_horz\": [\"001_cube\", \"022_logo_numenta\"],\n",
    "    \"007_disk_tbp_horz\": [\"006_disk\", \"021_logo_tbp\"],\n",
    "    \"009_disk_numenta_horz\": [\"006_disk\", \"022_logo_numenta\"],\n",
    "}\n"
   ],
   "outputs": [],
   "execution_count": null
  },
  {
   "cell_type": "code",
   "id": "30ef76cc",
   "metadata": {},
   "source": "compositional_stats_for_all_lms(eval_stats_comp, [0, 1], parent_to_child_mapping)",
   "outputs": [],
   "execution_count": null
  },
  {
   "cell_type": "code",
   "id": "2f9190b5",
   "metadata": {},
   "source": [
    "def mean_num_steps_for_lm(eval_stats, lm_id):\n",
    "    return np.mean(eval_stats[eval_stats[\"lm_id\"] == lm_id][\"num_steps\"])"
   ],
   "outputs": [],
   "execution_count": null
  },
  {
   "metadata": {},
   "cell_type": "code",
   "source": [
    "mean_steps_mono = mean_num_steps_for_lm(eval_stats_base, \"LM_1\")\n",
    "mean_steps_comp = mean_num_steps_for_lm(eval_stats_comp, \"LM_1\")\n",
    "\n",
    "plt.figure()\n",
    "plt.bar([0, 1], [mean_steps_mono, mean_steps_comp])\n",
    "plt.show()"
   ],
   "id": "462bc4a9dfff0cf9",
   "outputs": [],
   "execution_count": null
  }
 ],
 "metadata": {
  "kernelspec": {
   "display_name": "feat.compositional_testbed",
   "language": "python",
   "name": "python3"
  },
  "language_info": {
   "codemirror_mode": {
    "name": "ipython",
    "version": 3
   },
   "file_extension": ".py",
   "mimetype": "text/x-python",
   "name": "python",
   "nbconvert_exporter": "python",
   "pygments_lexer": "ipython3",
   "version": "3.8.20"
  }
 },
 "nbformat": 4,
 "nbformat_minor": 5
}
